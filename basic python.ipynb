{
 "cells": [
  {
   "cell_type": "markdown",
   "id": "10223c51",
   "metadata": {},
   "source": [
    "# Basic python introduction"
   ]
  },
  {
   "cell_type": "markdown",
   "id": "d2914c76",
   "metadata": {},
   "source": [
    "### Data type in python"
   ]
  },
  {
   "cell_type": "code",
   "execution_count": 2,
   "id": "745ee98b",
   "metadata": {},
   "outputs": [],
   "source": [
    "# 1. integer --> 1, 2, 3\n",
    "# 2. float --> 1.1, 2.1\n",
    "# 3. string --> abc, sameer, etc.\n",
    "# 4. boolean --> True, False\n",
    "\n",
    "\n",
    "# --------------------Find other data types apart from the above 4in python"
   ]
  },
  {
   "cell_type": "code",
   "execution_count": 3,
   "id": "aa3ed996",
   "metadata": {},
   "outputs": [],
   "source": [
    "# variable --> these are the place  holders in the code to identify/ store any value in the memory.\n",
    "\n",
    "# name = 1\n",
    "# the variable should start with an alphabet or _, it can only contain alphanumeric"
   ]
  },
  {
   "cell_type": "code",
   "execution_count": 17,
   "id": "e1e9accc",
   "metadata": {},
   "outputs": [],
   "source": [
    "value = 3.4\n",
    "num = 2\n",
    "yes = True\n",
    "no = False"
   ]
  },
  {
   "cell_type": "code",
   "execution_count": 18,
   "id": "1a27b58e",
   "metadata": {},
   "outputs": [],
   "source": [
    "# print(value, num)"
   ]
  },
  {
   "cell_type": "code",
   "execution_count": 20,
   "id": "e6f55750",
   "metadata": {},
   "outputs": [
    {
     "data": {
      "text/plain": [
       "bool"
      ]
     },
     "execution_count": 20,
     "metadata": {},
     "output_type": "execute_result"
    }
   ],
   "source": [
    "type(yes)"
   ]
  },
  {
   "cell_type": "code",
   "execution_count": 21,
   "id": "13925c01",
   "metadata": {},
   "outputs": [],
   "source": [
    "# Data structure --> a collection of data stored in the memory.\n",
    "# 1. list\n",
    "# 2. tuple\n",
    "# 3. set\n",
    "# 4. dictionary\n",
    "\n",
    "# --------------------------------tell any other data structure apart from the avove 4"
   ]
  },
  {
   "cell_type": "code",
   "execution_count": 23,
   "id": "1c29490b",
   "metadata": {},
   "outputs": [],
   "source": [
    "\n",
    "# list --> collection of similar or different data types in python, unordered, mutable in nature\n",
    "\n",
    "l = [1,2,3,45,6,7,8,9,765,43,2,2]"
   ]
  },
  {
   "cell_type": "code",
   "execution_count": 27,
   "id": "58fc47db",
   "metadata": {},
   "outputs": [
    {
     "data": {
      "text/plain": [
       "list"
      ]
     },
     "execution_count": 27,
     "metadata": {},
     "output_type": "execute_result"
    }
   ],
   "source": [
    "type(l)"
   ]
  },
  {
   "cell_type": "code",
   "execution_count": 35,
   "id": "a0d1bfff",
   "metadata": {},
   "outputs": [],
   "source": [
    "l[11] = 3"
   ]
  },
  {
   "cell_type": "code",
   "execution_count": 37,
   "id": "3f86027a",
   "metadata": {},
   "outputs": [
    {
     "data": {
      "text/plain": [
       "[1, 2, 3, 45, 6, 7, 8, 9, 765, 43, 2, 3]"
      ]
     },
     "execution_count": 37,
     "metadata": {},
     "output_type": "execute_result"
    }
   ],
   "source": [
    "l"
   ]
  },
  {
   "cell_type": "code",
   "execution_count": null,
   "id": "83310916",
   "metadata": {},
   "outputs": [],
   "source": []
  },
  {
   "cell_type": "code",
   "execution_count": null,
   "id": "fd0798fe",
   "metadata": {},
   "outputs": [],
   "source": []
  },
  {
   "cell_type": "code",
   "execution_count": null,
   "id": "ae5a008e",
   "metadata": {},
   "outputs": [],
   "source": []
  },
  {
   "cell_type": "code",
   "execution_count": 38,
   "id": "0f32f854",
   "metadata": {},
   "outputs": [],
   "source": [
    "# tuple --> collection of similar or different data types in python, unordered, \n",
    "# immutable in nature and is fatser as compared to the list"
   ]
  },
  {
   "cell_type": "code",
   "execution_count": 39,
   "id": "c22a426a",
   "metadata": {},
   "outputs": [],
   "source": [
    "t = (1,2,4,3,5,2,6)"
   ]
  },
  {
   "cell_type": "code",
   "execution_count": 45,
   "id": "66704e3a",
   "metadata": {},
   "outputs": [
    {
     "ename": "IndexError",
     "evalue": "tuple index out of range",
     "output_type": "error",
     "traceback": [
      "\u001b[1;31m---------------------------------------------------------------------------\u001b[0m",
      "\u001b[1;31mIndexError\u001b[0m                                Traceback (most recent call last)",
      "\u001b[1;32m<ipython-input-45-e5c66c2eb367>\u001b[0m in \u001b[0;36m<module>\u001b[1;34m\u001b[0m\n\u001b[0;32m      1\u001b[0m \u001b[1;31m# t[1] = 1\u001b[0m\u001b[1;33m\u001b[0m\u001b[1;33m\u001b[0m\u001b[1;33m\u001b[0m\u001b[0m\n\u001b[1;32m----> 2\u001b[1;33m \u001b[0mt\u001b[0m\u001b[1;33m[\u001b[0m\u001b[1;36m7\u001b[0m\u001b[1;33m]\u001b[0m\u001b[1;33m\u001b[0m\u001b[1;33m\u001b[0m\u001b[0m\n\u001b[0m",
      "\u001b[1;31mIndexError\u001b[0m: tuple index out of range"
     ]
    }
   ],
   "source": [
    "# t[1] = 1\n",
    "t[7]"
   ]
  },
  {
   "cell_type": "code",
   "execution_count": null,
   "id": "060a6a02",
   "metadata": {},
   "outputs": [],
   "source": []
  }
 ],
 "metadata": {
  "kernelspec": {
   "display_name": "Python 3",
   "language": "python",
   "name": "python3"
  },
  "language_info": {
   "codemirror_mode": {
    "name": "ipython",
    "version": 3
   },
   "file_extension": ".py",
   "mimetype": "text/x-python",
   "name": "python",
   "nbconvert_exporter": "python",
   "pygments_lexer": "ipython3",
   "version": "3.8.8"
  }
 },
 "nbformat": 4,
 "nbformat_minor": 5
}
