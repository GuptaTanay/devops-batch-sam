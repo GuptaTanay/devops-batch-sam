{
 "cells": [
  {
   "cell_type": "markdown",
   "id": "10223c51",
   "metadata": {},
   "source": [
    "# Basic python introduction"
   ]
  },
  {
   "cell_type": "markdown",
   "id": "d2914c76",
   "metadata": {},
   "source": [
    "### Data type in python"
   ]
  },
  {
   "cell_type": "code",
   "execution_count": 3,
   "id": "745ee98b",
   "metadata": {},
   "outputs": [],
   "source": [
    "# 1. integer --> 1, 2, 3\n",
    "# 2. float --> 1.1, 2.1\n",
    "# 3. string --> abc, sameer, etc.\n",
    "# 4. boolean --> True, False\n",
    "# 5. complex\n",
    "\n",
    "# --------------------Find other data types apart from the above 4in python"
   ]
  },
  {
   "cell_type": "code",
   "execution_count": 4,
   "id": "aa3ed996",
   "metadata": {},
   "outputs": [],
   "source": [
    "# variable --> these are the place  holders in the code to identify/ store any value in the memory.\n",
    "\n",
    "# name = 1\n",
    "# the variable should start with an alphabet or _, it can only contain alphanumeric"
   ]
  },
  {
   "cell_type": "code",
   "execution_count": 5,
   "id": "e1e9accc",
   "metadata": {},
   "outputs": [],
   "source": [
    "value = 3.4\n",
    "num = 2\n",
    "yes = True\n",
    "no = False"
   ]
  },
  {
   "cell_type": "code",
   "execution_count": 6,
   "id": "1a27b58e",
   "metadata": {},
   "outputs": [],
   "source": [
    "# print(value, num)"
   ]
  },
  {
   "cell_type": "code",
   "execution_count": 7,
   "id": "e6f55750",
   "metadata": {},
   "outputs": [
    {
     "data": {
      "text/plain": [
       "bool"
      ]
     },
     "execution_count": 7,
     "metadata": {},
     "output_type": "execute_result"
    }
   ],
   "source": [
    "type(yes)"
   ]
  },
  {
   "cell_type": "code",
   "execution_count": 8,
   "id": "13925c01",
   "metadata": {},
   "outputs": [],
   "source": [
    "# Data structure --> a collection of data stored in the memory.\n",
    "# 1. list\n",
    "# 2. tuple\n",
    "# 3. set\n",
    "# 4. dictionary\n",
    "\n",
    "# --------------------------------tell any other data structure apart from the avove 4"
   ]
  },
  {
   "cell_type": "code",
   "execution_count": 9,
   "id": "1c29490b",
   "metadata": {},
   "outputs": [],
   "source": [
    "\n",
    "# list --> collection of similar or different data types in python, unordered, mutable in nature\n",
    "\n",
    "l = [1,2,3,45,6,7,8,9,765,43,2,2]"
   ]
  },
  {
   "cell_type": "code",
   "execution_count": 10,
   "id": "58fc47db",
   "metadata": {},
   "outputs": [
    {
     "data": {
      "text/plain": [
       "list"
      ]
     },
     "execution_count": 10,
     "metadata": {},
     "output_type": "execute_result"
    }
   ],
   "source": [
    "type(l)"
   ]
  },
  {
   "cell_type": "code",
   "execution_count": 11,
   "id": "a0d1bfff",
   "metadata": {},
   "outputs": [],
   "source": [
    "l[11] = 3"
   ]
  },
  {
   "cell_type": "code",
   "execution_count": 12,
   "id": "3f86027a",
   "metadata": {},
   "outputs": [
    {
     "data": {
      "text/plain": [
       "[1, 2, 3, 45, 6, 7, 8, 9, 765, 43, 2, 3]"
      ]
     },
     "execution_count": 12,
     "metadata": {},
     "output_type": "execute_result"
    }
   ],
   "source": [
    "l"
   ]
  },
  {
   "cell_type": "code",
   "execution_count": 13,
   "id": "83310916",
   "metadata": {},
   "outputs": [
    {
     "data": {
      "text/plain": [
       "2"
      ]
     },
     "execution_count": 13,
     "metadata": {},
     "output_type": "execute_result"
    }
   ],
   "source": [
    "l.index(3)"
   ]
  },
  {
   "cell_type": "code",
   "execution_count": 14,
   "id": "fd0798fe",
   "metadata": {},
   "outputs": [],
   "source": [
    "l.remove(3)"
   ]
  },
  {
   "cell_type": "code",
   "execution_count": 15,
   "id": "ae5a008e",
   "metadata": {},
   "outputs": [
    {
     "data": {
      "text/plain": [
       "3"
      ]
     },
     "execution_count": 15,
     "metadata": {},
     "output_type": "execute_result"
    }
   ],
   "source": [
    "l.pop()"
   ]
  },
  {
   "cell_type": "code",
   "execution_count": 16,
   "id": "c3a32258",
   "metadata": {},
   "outputs": [
    {
     "data": {
      "text/plain": [
       "[1, 2, 45, 6, 7, 8, 9, 765, 43, 2, 5]"
      ]
     },
     "execution_count": 16,
     "metadata": {},
     "output_type": "execute_result"
    }
   ],
   "source": [
    "l.append(5)\n",
    "l"
   ]
  },
  {
   "cell_type": "code",
   "execution_count": 17,
   "id": "a28d569a",
   "metadata": {},
   "outputs": [
    {
     "data": {
      "text/plain": [
       "11"
      ]
     },
     "execution_count": 17,
     "metadata": {},
     "output_type": "execute_result"
    }
   ],
   "source": [
    "len(l)"
   ]
  },
  {
   "cell_type": "code",
   "execution_count": 18,
   "id": "41f64d0e",
   "metadata": {},
   "outputs": [
    {
     "data": {
      "text/plain": [
       "1"
      ]
     },
     "execution_count": 18,
     "metadata": {},
     "output_type": "execute_result"
    }
   ],
   "source": [
    "l.count(43)"
   ]
  },
  {
   "cell_type": "code",
   "execution_count": 19,
   "id": "9053423f",
   "metadata": {},
   "outputs": [
    {
     "data": {
      "text/plain": [
       "5"
      ]
     },
     "execution_count": 19,
     "metadata": {},
     "output_type": "execute_result"
    }
   ],
   "source": [
    "n = len(l)\n",
    "l[n-1]"
   ]
  },
  {
   "cell_type": "code",
   "execution_count": 20,
   "id": "63f32a96",
   "metadata": {},
   "outputs": [
    {
     "data": {
      "text/plain": [
       "5"
      ]
     },
     "execution_count": 20,
     "metadata": {},
     "output_type": "execute_result"
    }
   ],
   "source": [
    "l[-1]"
   ]
  },
  {
   "cell_type": "code",
   "execution_count": 11,
   "id": "0f32f854",
   "metadata": {},
   "outputs": [],
   "source": [
    "# tuple --> collection of similar or different data types in python, unordered, \n",
    "# immutable in nature and is fatser as compared to the list"
   ]
  },
  {
   "cell_type": "code",
   "execution_count": 12,
   "id": "c22a426a",
   "metadata": {},
   "outputs": [],
   "source": [
    "t = (1,2,4,3,5,2,6)"
   ]
  },
  {
   "cell_type": "code",
   "execution_count": 91,
   "id": "66704e3a",
   "metadata": {},
   "outputs": [
    {
     "data": {
      "text/plain": [
       "(4, 3, 5, 2)"
      ]
     },
     "execution_count": 91,
     "metadata": {},
     "output_type": "execute_result"
    }
   ],
   "source": [
    "# t[1] = 1\n",
    "t[2:6]"
   ]
  },
  {
   "cell_type": "code",
   "execution_count": 25,
   "id": "060a6a02",
   "metadata": {},
   "outputs": [],
   "source": [
    "# set --> collection of similar of difeerent data types in python, it is ordered, and cannot contain duplicates\n",
    "# sets are not indexable/ subscriptable, mutable in nature\n",
    "s = {1,1,2,1,4,3,78,7}"
   ]
  },
  {
   "cell_type": "code",
   "execution_count": 26,
   "id": "cff3e519",
   "metadata": {},
   "outputs": [],
   "source": [
    "s.remove(7)"
   ]
  },
  {
   "cell_type": "code",
   "execution_count": 27,
   "id": "0ca85d90",
   "metadata": {},
   "outputs": [],
   "source": [
    "s.add(7)"
   ]
  },
  {
   "cell_type": "code",
   "execution_count": 28,
   "id": "17609e63",
   "metadata": {},
   "outputs": [
    {
     "data": {
      "text/plain": [
       "{1, 2, 3, 4, 7, 78}"
      ]
     },
     "execution_count": 28,
     "metadata": {},
     "output_type": "execute_result"
    }
   ],
   "source": [
    "s"
   ]
  },
  {
   "cell_type": "code",
   "execution_count": null,
   "id": "e2b94d90",
   "metadata": {},
   "outputs": [],
   "source": [
    "# Dictionary --> which is in the form of key value pairs,you willhave keys and values.\n",
    "# it is also mutable in nature, and you can change the values, \n",
    "# there will be no duplicates in the keys, but value can be duplicate"
   ]
  },
  {
   "cell_type": "code",
   "execution_count": 72,
   "id": "34c44acd",
   "metadata": {},
   "outputs": [],
   "source": [
    "d = {1:22, 'a':2, 'c':3.0, 1:23, 2:23}"
   ]
  },
  {
   "cell_type": "code",
   "execution_count": 73,
   "id": "ace212ba",
   "metadata": {},
   "outputs": [
    {
     "data": {
      "text/plain": [
       "dict_items([(1, 23), ('a', 2), ('c', 3.0), (2, 23)])"
      ]
     },
     "execution_count": 73,
     "metadata": {},
     "output_type": "execute_result"
    }
   ],
   "source": [
    "d.items()"
   ]
  },
  {
   "cell_type": "code",
   "execution_count": 70,
   "id": "d341f7da",
   "metadata": {},
   "outputs": [
    {
     "data": {
      "text/plain": [
       "dict_keys([1, 'a', 'c'])"
      ]
     },
     "execution_count": 70,
     "metadata": {},
     "output_type": "execute_result"
    }
   ],
   "source": [
    "d.keys()"
   ]
  },
  {
   "cell_type": "code",
   "execution_count": 71,
   "id": "0188bf26",
   "metadata": {},
   "outputs": [
    {
     "data": {
      "text/plain": [
       "dict_values([23, 2, 3.0])"
      ]
     },
     "execution_count": 71,
     "metadata": {},
     "output_type": "execute_result"
    }
   ],
   "source": [
    "d.values()"
   ]
  },
  {
   "cell_type": "code",
   "execution_count": 74,
   "id": "01c9484d",
   "metadata": {},
   "outputs": [],
   "source": [
    "d[1] = 34"
   ]
  },
  {
   "cell_type": "code",
   "execution_count": 76,
   "id": "cefc93e8",
   "metadata": {},
   "outputs": [],
   "source": [
    "d['d'] = 0"
   ]
  },
  {
   "cell_type": "code",
   "execution_count": 77,
   "id": "f152d720",
   "metadata": {},
   "outputs": [
    {
     "data": {
      "text/plain": [
       "{1: 34, 'a': 2, 'c': 3.0, 2: 23, 'd': 0}"
      ]
     },
     "execution_count": 77,
     "metadata": {},
     "output_type": "execute_result"
    }
   ],
   "source": [
    "d"
   ]
  },
  {
   "cell_type": "code",
   "execution_count": null,
   "id": "67d256c1",
   "metadata": {},
   "outputs": [],
   "source": []
  },
  {
   "cell_type": "code",
   "execution_count": 30,
   "id": "d2c0de9b",
   "metadata": {},
   "outputs": [],
   "source": [
    "# -------------------------------OPERATORS IN PYTHON ------------------------------------\n",
    "# 1.+ --> addition\n",
    "# 2. - --> subtraction\n",
    "# 3. * ---> multiplicatoin\n",
    "# 4. / --> division\n",
    "# 7. % --> remainder\n",
    "# 8. // --> integer division\n",
    "\n",
    "# 9. or--> used to check logical or conditions\n",
    "# 10. and --> usded to check logical and condition\n",
    "\n",
    "# ---------------------------> any other operators in python apart from the above?"
   ]
  },
  {
   "cell_type": "code",
   "execution_count": 35,
   "id": "fdbc36b3",
   "metadata": {},
   "outputs": [],
   "source": [
    "a, b = 8, 3"
   ]
  },
  {
   "cell_type": "code",
   "execution_count": 36,
   "id": "43527943",
   "metadata": {},
   "outputs": [
    {
     "data": {
      "text/plain": [
       "(11, 5, 24, 2.6666666666666665, 2, 2)"
      ]
     },
     "execution_count": 36,
     "metadata": {},
     "output_type": "execute_result"
    }
   ],
   "source": [
    "a+b, a-b, a*b, a/b, a%b, a//b"
   ]
  },
  {
   "cell_type": "code",
   "execution_count": 37,
   "id": "e883f0c5",
   "metadata": {},
   "outputs": [],
   "source": [
    "a, b = 'abc', 2"
   ]
  },
  {
   "cell_type": "code",
   "execution_count": 82,
   "id": "e8f1187d",
   "metadata": {},
   "outputs": [],
   "source": [
    "\n",
    "# STRING MUTATION\n",
    "\n",
    "\n",
    "s = 'my  name is sameer'\n",
    "s2 = 'my name is sameer'\n",
    "s3 = \"\"\"my name is \n",
    "sameer\"\"\""
   ]
  },
  {
   "cell_type": "code",
   "execution_count": 83,
   "id": "1fdc09e0",
   "metadata": {},
   "outputs": [
    {
     "data": {
      "text/plain": [
       "'my  name is sameer'"
      ]
     },
     "execution_count": 83,
     "metadata": {},
     "output_type": "execute_result"
    }
   ],
   "source": [
    "s"
   ]
  },
  {
   "cell_type": "code",
   "execution_count": 84,
   "id": "fb6cc3ac",
   "metadata": {},
   "outputs": [
    {
     "data": {
      "text/plain": [
       "('my name is sameer', 'my name is \\nsameer')"
      ]
     },
     "execution_count": 84,
     "metadata": {},
     "output_type": "execute_result"
    }
   ],
   "source": [
    "s2, s3"
   ]
  },
  {
   "cell_type": "code",
   "execution_count": 86,
   "id": "731608b2",
   "metadata": {},
   "outputs": [],
   "source": [
    "s4 = s"
   ]
  },
  {
   "cell_type": "code",
   "execution_count": 88,
   "id": "58987c62",
   "metadata": {},
   "outputs": [
    {
     "data": {
      "text/plain": [
       "18"
      ]
     },
     "execution_count": 88,
     "metadata": {},
     "output_type": "execute_result"
    }
   ],
   "source": [
    "len(s)"
   ]
  },
  {
   "cell_type": "code",
   "execution_count": 94,
   "id": "06e66680",
   "metadata": {},
   "outputs": [],
   "source": [
    "# s[0:5] = 'your n'"
   ]
  },
  {
   "cell_type": "code",
   "execution_count": 95,
   "id": "1ff8417b",
   "metadata": {},
   "outputs": [
    {
     "data": {
      "text/plain": [
       "'my  name is sameer'"
      ]
     },
     "execution_count": 95,
     "metadata": {},
     "output_type": "execute_result"
    }
   ],
   "source": [
    "s"
   ]
  },
  {
   "cell_type": "code",
   "execution_count": 97,
   "id": "e23126df",
   "metadata": {},
   "outputs": [],
   "source": [
    "s = s+ ' kamran'"
   ]
  },
  {
   "cell_type": "code",
   "execution_count": 98,
   "id": "1e1349cd",
   "metadata": {},
   "outputs": [
    {
     "data": {
      "text/plain": [
       "'my  name is sameer kamran'"
      ]
     },
     "execution_count": 98,
     "metadata": {},
     "output_type": "execute_result"
    }
   ],
   "source": [
    "s"
   ]
  },
  {
   "cell_type": "code",
   "execution_count": 103,
   "id": "d95958e1",
   "metadata": {},
   "outputs": [],
   "source": [
    "# s[1:len(s)]"
   ]
  },
  {
   "cell_type": "code",
   "execution_count": 105,
   "id": "bbba6b90",
   "metadata": {},
   "outputs": [
    {
     "data": {
      "text/plain": [
       "'my  name is sameer kamranmy  name is sameer kamranmy  name is sameer kamran'"
      ]
     },
     "execution_count": 105,
     "metadata": {},
     "output_type": "execute_result"
    }
   ],
   "source": [
    "s*3"
   ]
  },
  {
   "cell_type": "code",
   "execution_count": null,
   "id": "c5b34ae2",
   "metadata": {},
   "outputs": [],
   "source": [
    "# CONDITIONAL STATEMENTS in python\n",
    "# if \n",
    "# else\n",
    "# elif\n",
    "\n",
    "\n",
    "# if condtion:\n",
    "#     code st1\n",
    "# elif  condition:\n",
    "#     code st2\n",
    "# else:\n",
    "#     code st3\n",
    "    "
   ]
  },
  {
   "cell_type": "code",
   "execution_count": 131,
   "id": "58e0439d",
   "metadata": {},
   "outputs": [],
   "source": [
    "a, b, c = 23, 3, 23"
   ]
  },
  {
   "cell_type": "code",
   "execution_count": 132,
   "id": "fb5307a1",
   "metadata": {},
   "outputs": [
    {
     "name": "stdout",
     "output_type": "stream",
     "text": [
      "a is greatest\n"
     ]
    }
   ],
   "source": [
    "if a>b:\n",
    "    print('a is greatest')\n",
    "else:\n",
    "    print('b is greatest')"
   ]
  },
  {
   "cell_type": "code",
   "execution_count": 136,
   "id": "e4d3f497",
   "metadata": {
    "scrolled": true
   },
   "outputs": [
    {
     "name": "stdout",
     "output_type": "stream",
     "text": [
      "23 is greatest\n"
     ]
    }
   ],
   "source": [
    "if a>=b and a>=c:\n",
    "    print(f'{a} is greatest')\n",
    "elif c>=a and c>=b:\n",
    "    print(f'{c} is greatest')\n",
    "elif b>=a and b>=c:\n",
    "    print(f'{b} is greatest')\n",
    "else:\n",
    "    print('all are equal')"
   ]
  },
  {
   "cell_type": "code",
   "execution_count": null,
   "id": "9e4d9a8d",
   "metadata": {},
   "outputs": [],
   "source": [
    "# COntrol flow statement --> which control the flow of the code\n",
    "# 1. LOOPS --> a. for, b. while\n",
    "# 2. KEYWORDS --> a. break, b. continue, c. pass"
   ]
  },
  {
   "cell_type": "code",
   "execution_count": null,
   "id": "bb29598a",
   "metadata": {},
   "outputs": [],
   "source": [
    "loops --> the code will be repeated or reiterated again and again until the condition is sufficed.\n",
    "\n",
    "\n",
    "\n",
    "# for --> \n",
    "# for i in l:\n",
    "#     code st1"
   ]
  },
  {
   "cell_type": "code",
   "execution_count": 24,
   "id": "9f1a47a4",
   "metadata": {},
   "outputs": [
    {
     "name": "stdout",
     "output_type": "stream",
     "text": [
      "0\n",
      "1\n",
      "1\n",
      "1\n",
      "2\n",
      "3\n",
      "5\n",
      "4\n"
     ]
    }
   ],
   "source": [
    "l = [0,1,1,1,2,3,5,4]\n",
    "ans = []\n",
    "for i in l:\n",
    "#     print(i)\n",
    "    s = i+1\n",
    "    ans.append(s)"
   ]
  },
  {
   "cell_type": "code",
   "execution_count": 25,
   "id": "9536c92a",
   "metadata": {},
   "outputs": [
    {
     "name": "stdout",
     "output_type": "stream",
     "text": [
      "[1, 2, 2, 2, 3, 4, 6, 5]\n"
     ]
    }
   ],
   "source": [
    "print(ans)"
   ]
  },
  {
   "cell_type": "code",
   "execution_count": 28,
   "id": "6414b1e0",
   "metadata": {},
   "outputs": [],
   "source": [
    "# for i in range(0, 101):\n",
    "#     if i%2 != 0:\n",
    "#         print(i)"
   ]
  },
  {
   "cell_type": "code",
   "execution_count": 32,
   "id": "0fe4939f",
   "metadata": {},
   "outputs": [],
   "source": [
    "# while --> whenever there is a condition that we can use to check and loop\n",
    "\n",
    "# s = 100\n",
    "# while s>=0:\n",
    "#     if s%2 ==0:\n",
    "#         print(s)\n",
    "#     s -=1 #s = s-1"
   ]
  },
  {
   "cell_type": "code",
   "execution_count": 34,
   "id": "42bdd9af",
   "metadata": {},
   "outputs": [
    {
     "name": "stdout",
     "output_type": "stream",
     "text": [
      "1\n",
      "2\n"
     ]
    }
   ],
   "source": [
    "# continue --> is a keyword which is used inside the loops to skip that particular iteration\n",
    "# break --> is a keyword which is used to stop the looping, to come out of the loop\n",
    "\n",
    "# print all the numbers from 1 to 10 and skip 3 and 5\n",
    "for i in range(1, 11):\n",
    "    if i in [3, 5]:\n",
    "        continue\n",
    "    print(i)"
   ]
  },
  {
   "cell_type": "code",
   "execution_count": 37,
   "id": "563e7970",
   "metadata": {},
   "outputs": [
    {
     "name": "stdout",
     "output_type": "stream",
     "text": [
      "0\n",
      "1\n",
      "3\n",
      "4\n"
     ]
    }
   ],
   "source": [
    "# pass: is used whenever we have a block of code and we dont want to execute anything insed the block\n",
    "for i in range(0, 5):\n",
    "    if i ==1:\n",
    "        pass\n",
    "    elif i ==2:\n",
    "        print(i-1)\n",
    "    else:\n",
    "        print(i)"
   ]
  },
  {
   "cell_type": "code",
   "execution_count": 40,
   "id": "fafc51a8",
   "metadata": {},
   "outputs": [],
   "source": [
    "# check the odd numbers between 100, 200....500, 200\n",
    "\n",
    "# for i in range(100, 201):\n",
    "#     if i % 2 !=0:\n",
    "#         print(i)"
   ]
  },
  {
   "cell_type": "code",
   "execution_count": 44,
   "id": "fd6c6f2d",
   "metadata": {},
   "outputs": [],
   "source": [
    "# for i in range(500, 200, -1):\n",
    "#     if i % 2 !=0:\n",
    "#         print(i)"
   ]
  },
  {
   "cell_type": "code",
   "execution_count": null,
   "id": "953fbe10",
   "metadata": {},
   "outputs": [],
   "source": [
    "# FUNCTIONS in python: are re-usable piece of code whcih can be called again and  again inside the code"
   ]
  },
  {
   "cell_type": "code",
   "execution_count": null,
   "id": "b4f1fea2",
   "metadata": {},
   "outputs": [],
   "source": [
    "# 1. function definition --> to define the function and its structure\n",
    "# 2. function call --> to call function to exectue the code statements inside the funciton"
   ]
  },
  {
   "cell_type": "code",
   "execution_count": null,
   "id": "1e10dae2",
   "metadata": {},
   "outputs": [],
   "source": [
    "# function def --->\n",
    "\n",
    "# def <funcitonname>(<parameters>):\n",
    "#     code stet\n",
    "#     return <returnval>\n",
    "\n",
    "\n",
    "# ans= <funcitonname>(<param>)"
   ]
  },
  {
   "cell_type": "code",
   "execution_count": 47,
   "id": "ed2bd68b",
   "metadata": {},
   "outputs": [],
   "source": [
    "def find_odd(start, end, step=1):\n",
    "    ans = []\n",
    "    for i in range(start, end, step):\n",
    "        if i%2 !=0:\n",
    "            ans.append(i)\n",
    "    return ans"
   ]
  },
  {
   "cell_type": "code",
   "execution_count": 49,
   "id": "f1bd3842",
   "metadata": {},
   "outputs": [],
   "source": [
    "ans = find_odd(start=101, end=201, step=1)"
   ]
  },
  {
   "cell_type": "code",
   "execution_count": 51,
   "id": "8f9ec095",
   "metadata": {},
   "outputs": [],
   "source": [
    "ans2 = find_odd(start=50000, end=0, step=-1)"
   ]
  },
  {
   "cell_type": "code",
   "execution_count": 53,
   "id": "399f6036",
   "metadata": {},
   "outputs": [],
   "source": [
    "# print(ans2)"
   ]
  },
  {
   "cell_type": "code",
   "execution_count": null,
   "id": "3564a776",
   "metadata": {},
   "outputs": [],
   "source": [
    "# h.w. --> create a function to add 3 numbers\n"
   ]
  },
  {
   "cell_type": "code",
   "execution_count": null,
   "id": "f9b79aef",
   "metadata": {},
   "outputs": [],
   "source": [
    "# program to create a calculator\n",
    "# args and kwargs for functions"
   ]
  }
 ],
 "metadata": {
  "kernelspec": {
   "display_name": "Python 3",
   "language": "python",
   "name": "python3"
  },
  "language_info": {
   "codemirror_mode": {
    "name": "ipython",
    "version": 3
   },
   "file_extension": ".py",
   "mimetype": "text/x-python",
   "name": "python",
   "nbconvert_exporter": "python",
   "pygments_lexer": "ipython3",
   "version": "3.8.8"
  }
 },
 "nbformat": 4,
 "nbformat_minor": 5
}
