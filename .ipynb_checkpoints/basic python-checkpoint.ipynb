{
 "cells": [
  {
   "cell_type": "markdown",
   "id": "10223c51",
   "metadata": {},
   "source": [
    "# Basic python introduction"
   ]
  },
  {
   "cell_type": "markdown",
   "id": "d2914c76",
   "metadata": {},
   "source": [
    "### Data type in python"
   ]
  },
  {
   "cell_type": "code",
   "execution_count": 1,
   "id": "745ee98b",
   "metadata": {},
   "outputs": [],
   "source": [
    "# 1. integer --> 1, 2, 3\n",
    "# 2. float --> 1.1, 2.1\n",
    "# 3. string --> abc, sameer, etc.\n",
    "# 4. boolean --> True, False\n",
    "\n",
    "\n",
    "# --------------------Find other data types apart from the above 4in python"
   ]
  },
  {
   "cell_type": "code",
   "execution_count": 2,
   "id": "aa3ed996",
   "metadata": {},
   "outputs": [],
   "source": [
    "# variable --> these are the place  holders in the code to identify/ store any value in the memory.\n",
    "\n",
    "# name = 1\n",
    "# the variable should start with an alphabet or _, it can only contain alphanumeric"
   ]
  },
  {
   "cell_type": "code",
   "execution_count": 3,
   "id": "e1e9accc",
   "metadata": {},
   "outputs": [],
   "source": [
    "value = 3.4\n",
    "num = 2\n",
    "yes = True\n",
    "no = False"
   ]
  },
  {
   "cell_type": "code",
   "execution_count": 4,
   "id": "1a27b58e",
   "metadata": {},
   "outputs": [],
   "source": [
    "# print(value, num)"
   ]
  },
  {
   "cell_type": "code",
   "execution_count": 5,
   "id": "e6f55750",
   "metadata": {},
   "outputs": [
    {
     "data": {
      "text/plain": [
       "bool"
      ]
     },
     "execution_count": 5,
     "metadata": {},
     "output_type": "execute_result"
    }
   ],
   "source": [
    "type(yes)"
   ]
  },
  {
   "cell_type": "code",
   "execution_count": 6,
   "id": "13925c01",
   "metadata": {},
   "outputs": [],
   "source": [
    "# Data structure --> a collection of data stored in the memory.\n",
    "# 1. list\n",
    "# 2. tuple\n",
    "# 3. set\n",
    "# 4. dictionary\n",
    "\n",
    "# --------------------------------tell any other data structure apart from the avove 4"
   ]
  },
  {
   "cell_type": "code",
   "execution_count": 7,
   "id": "1c29490b",
   "metadata": {},
   "outputs": [],
   "source": [
    "\n",
    "# list --> collection of similar or different data types in python, unordered, mutable in nature\n",
    "\n",
    "l = [1,2,3,45,6,7,8,9,765,43,2,2]"
   ]
  },
  {
   "cell_type": "code",
   "execution_count": 8,
   "id": "58fc47db",
   "metadata": {},
   "outputs": [
    {
     "data": {
      "text/plain": [
       "list"
      ]
     },
     "execution_count": 8,
     "metadata": {},
     "output_type": "execute_result"
    }
   ],
   "source": [
    "type(l)"
   ]
  },
  {
   "cell_type": "code",
   "execution_count": 9,
   "id": "a0d1bfff",
   "metadata": {},
   "outputs": [],
   "source": [
    "l[11] = 3"
   ]
  },
  {
   "cell_type": "code",
   "execution_count": 44,
   "id": "3f86027a",
   "metadata": {},
   "outputs": [
    {
     "data": {
      "text/plain": [
       "[1, 2, 3, 45, 6, 7, 8, 9, 765, 43, 2, 3]"
      ]
     },
     "execution_count": 44,
     "metadata": {},
     "output_type": "execute_result"
    }
   ],
   "source": [
    "l"
   ]
  },
  {
   "cell_type": "code",
   "execution_count": 46,
   "id": "83310916",
   "metadata": {},
   "outputs": [
    {
     "data": {
      "text/plain": [
       "2"
      ]
     },
     "execution_count": 46,
     "metadata": {},
     "output_type": "execute_result"
    }
   ],
   "source": [
    "l.index(3)"
   ]
  },
  {
   "cell_type": "code",
   "execution_count": 47,
   "id": "fd0798fe",
   "metadata": {},
   "outputs": [],
   "source": [
    "l.remove(3)"
   ]
  },
  {
   "cell_type": "code",
   "execution_count": 51,
   "id": "ae5a008e",
   "metadata": {},
   "outputs": [
    {
     "data": {
      "text/plain": [
       "3"
      ]
     },
     "execution_count": 51,
     "metadata": {},
     "output_type": "execute_result"
    }
   ],
   "source": [
    "l.pop()"
   ]
  },
  {
   "cell_type": "code",
   "execution_count": 57,
   "id": "2f5f91f6",
   "metadata": {},
   "outputs": [
    {
     "data": {
      "text/plain": [
       "[1, 2, 45, 7, 8, 9, 765, 43, 2, 5, 5]"
      ]
     },
     "execution_count": 57,
     "metadata": {},
     "output_type": "execute_result"
    }
   ],
   "source": [
    "l.append(5)\n",
    "l"
   ]
  },
  {
   "cell_type": "code",
   "execution_count": 59,
   "id": "80fbd9a6",
   "metadata": {},
   "outputs": [
    {
     "data": {
      "text/plain": [
       "11"
      ]
     },
     "execution_count": 59,
     "metadata": {},
     "output_type": "execute_result"
    }
   ],
   "source": [
    "len(l)"
   ]
  },
  {
   "cell_type": "code",
   "execution_count": 61,
   "id": "bffb0b6a",
   "metadata": {},
   "outputs": [
    {
     "data": {
      "text/plain": [
       "1"
      ]
     },
     "execution_count": 61,
     "metadata": {},
     "output_type": "execute_result"
    }
   ],
   "source": [
    "l.count(43)"
   ]
  },
  {
   "cell_type": "code",
   "execution_count": 63,
   "id": "75b6ca0e",
   "metadata": {},
   "outputs": [
    {
     "data": {
      "text/plain": [
       "5"
      ]
     },
     "execution_count": 63,
     "metadata": {},
     "output_type": "execute_result"
    }
   ],
   "source": [
    "n = len(l)\n",
    "l[n-1]"
   ]
  },
  {
   "cell_type": "code",
   "execution_count": 62,
   "id": "f8cb5f53",
   "metadata": {},
   "outputs": [
    {
     "data": {
      "text/plain": [
       "5"
      ]
     },
     "execution_count": 62,
     "metadata": {},
     "output_type": "execute_result"
    }
   ],
   "source": [
    "l[-1]"
   ]
  },
  {
   "cell_type": "code",
   "execution_count": 11,
   "id": "0f32f854",
   "metadata": {},
   "outputs": [],
   "source": [
    "# tuple --> collection of similar or different data types in python, unordered, \n",
    "# immutable in nature and is fatser as compared to the list"
   ]
  },
  {
   "cell_type": "code",
   "execution_count": 12,
   "id": "c22a426a",
   "metadata": {},
   "outputs": [],
   "source": [
    "t = (1,2,4,3,5,2,6)"
   ]
  },
  {
   "cell_type": "code",
   "execution_count": 91,
   "id": "66704e3a",
   "metadata": {},
   "outputs": [
    {
     "data": {
      "text/plain": [
       "(4, 3, 5, 2)"
      ]
     },
     "execution_count": 91,
     "metadata": {},
     "output_type": "execute_result"
    }
   ],
   "source": [
    "# t[1] = 1\n",
    "t[2:6]"
   ]
  },
  {
   "cell_type": "code",
   "execution_count": 25,
   "id": "060a6a02",
   "metadata": {},
   "outputs": [],
   "source": [
    "# set --> collection of similar of difeerent data types in python, it is ordered, and cannot contain duplicates\n",
    "# sets are not indexable/ subscriptable, mutable in nature\n",
    "s = {1,1,2,1,4,3,78,7}"
   ]
  },
  {
   "cell_type": "code",
   "execution_count": 26,
   "id": "04d0795a",
   "metadata": {},
   "outputs": [],
   "source": [
    "s.remove(7)"
   ]
  },
  {
   "cell_type": "code",
   "execution_count": 27,
   "id": "a3a8046c",
   "metadata": {},
   "outputs": [],
   "source": [
    "s.add(7)"
   ]
  },
  {
   "cell_type": "code",
   "execution_count": 28,
   "id": "28a21b0d",
   "metadata": {},
   "outputs": [
    {
     "data": {
      "text/plain": [
       "{1, 2, 3, 4, 7, 78}"
      ]
     },
     "execution_count": 28,
     "metadata": {},
     "output_type": "execute_result"
    }
   ],
   "source": [
    "s"
   ]
  },
  {
   "cell_type": "code",
   "execution_count": null,
   "id": "87243fc1",
   "metadata": {},
   "outputs": [],
   "source": [
    "# Dictionary --> which is in the form of key value pairs,you willhave keys and values.\n",
    "# it is also mutable in nature, and you can change the values, \n",
    "# there will be no duplicates in the keys, but value can be duplicate"
   ]
  },
  {
   "cell_type": "code",
   "execution_count": 72,
   "id": "82e3d801",
   "metadata": {},
   "outputs": [],
   "source": [
    "d = {1:22, 'a':2, 'c':3.0, 1:23, 2:23}"
   ]
  },
  {
   "cell_type": "code",
   "execution_count": 73,
   "id": "54fa43f0",
   "metadata": {},
   "outputs": [
    {
     "data": {
      "text/plain": [
       "dict_items([(1, 23), ('a', 2), ('c', 3.0), (2, 23)])"
      ]
     },
     "execution_count": 73,
     "metadata": {},
     "output_type": "execute_result"
    }
   ],
   "source": [
    "d.items()"
   ]
  },
  {
   "cell_type": "code",
   "execution_count": 70,
   "id": "6292b1c3",
   "metadata": {},
   "outputs": [
    {
     "data": {
      "text/plain": [
       "dict_keys([1, 'a', 'c'])"
      ]
     },
     "execution_count": 70,
     "metadata": {},
     "output_type": "execute_result"
    }
   ],
   "source": [
    "d.keys()"
   ]
  },
  {
   "cell_type": "code",
   "execution_count": 71,
   "id": "19e0f10f",
   "metadata": {},
   "outputs": [
    {
     "data": {
      "text/plain": [
       "dict_values([23, 2, 3.0])"
      ]
     },
     "execution_count": 71,
     "metadata": {},
     "output_type": "execute_result"
    }
   ],
   "source": [
    "d.values()"
   ]
  },
  {
   "cell_type": "code",
   "execution_count": 74,
   "id": "fb126270",
   "metadata": {},
   "outputs": [],
   "source": [
    "d[1] = 34"
   ]
  },
  {
   "cell_type": "code",
   "execution_count": 76,
   "id": "3bd633ea",
   "metadata": {},
   "outputs": [],
   "source": [
    "d['d'] = 0"
   ]
  },
  {
   "cell_type": "code",
   "execution_count": 77,
   "id": "e4c6da15",
   "metadata": {},
   "outputs": [
    {
     "data": {
      "text/plain": [
       "{1: 34, 'a': 2, 'c': 3.0, 2: 23, 'd': 0}"
      ]
     },
     "execution_count": 77,
     "metadata": {},
     "output_type": "execute_result"
    }
   ],
   "source": [
    "d"
   ]
  },
  {
   "cell_type": "code",
   "execution_count": null,
   "id": "c367588e",
   "metadata": {},
   "outputs": [],
   "source": []
  },
  {
   "cell_type": "code",
   "execution_count": 30,
   "id": "cbeada8a",
   "metadata": {},
   "outputs": [],
   "source": [
    "# -------------------------------OPERATORS IN PYTHON ------------------------------------\n",
    "# 1.+ --> addition\n",
    "# 2. - --> subtraction\n",
    "# 3. * ---> multiplicatoin\n",
    "# 4. / --> division\n",
    "# 7. % --> remainder\n",
    "# 8. // --> integer division\n",
    "\n",
    "\n",
    "# ---------------------------> any other operators in python apart from the above?"
   ]
  },
  {
   "cell_type": "code",
   "execution_count": 35,
   "id": "fe806ed0",
   "metadata": {},
   "outputs": [],
   "source": [
    "a, b = 8, 3"
   ]
  },
  {
   "cell_type": "code",
   "execution_count": 36,
   "id": "a8d46345",
   "metadata": {},
   "outputs": [
    {
     "data": {
      "text/plain": [
       "(11, 5, 24, 2.6666666666666665, 2, 2)"
      ]
     },
     "execution_count": 36,
     "metadata": {},
     "output_type": "execute_result"
    }
   ],
   "source": [
    "a+b, a-b, a*b, a/b, a%b, a//b"
   ]
  },
  {
   "cell_type": "code",
   "execution_count": 37,
   "id": "3361e5dc",
   "metadata": {},
   "outputs": [],
   "source": [
    "a, b = 'abc', 2"
   ]
  },
  {
   "cell_type": "code",
   "execution_count": 82,
   "id": "55ea9cb6",
   "metadata": {},
   "outputs": [],
   "source": [
    "\n",
    "# STRING MUTATION\n",
    "\n",
    "\n",
    "s = 'my  name is sameer'\n",
    "s2 = 'my name is sameer'\n",
    "s3 = \"\"\"my name is \n",
    "sameer\"\"\""
   ]
  },
  {
   "cell_type": "code",
   "execution_count": 83,
   "id": "79bed422",
   "metadata": {},
   "outputs": [
    {
     "data": {
      "text/plain": [
       "'my  name is sameer'"
      ]
     },
     "execution_count": 83,
     "metadata": {},
     "output_type": "execute_result"
    }
   ],
   "source": [
    "s"
   ]
  },
  {
   "cell_type": "code",
   "execution_count": 84,
   "id": "094a429e",
   "metadata": {},
   "outputs": [
    {
     "data": {
      "text/plain": [
       "('my name is sameer', 'my name is \\nsameer')"
      ]
     },
     "execution_count": 84,
     "metadata": {},
     "output_type": "execute_result"
    }
   ],
   "source": [
    "s2, s3"
   ]
  },
  {
   "cell_type": "code",
   "execution_count": 86,
   "id": "92466e13",
   "metadata": {},
   "outputs": [],
   "source": [
    "s4 = s"
   ]
  },
  {
   "cell_type": "code",
   "execution_count": 88,
   "id": "f7618649",
   "metadata": {},
   "outputs": [
    {
     "data": {
      "text/plain": [
       "18"
      ]
     },
     "execution_count": 88,
     "metadata": {},
     "output_type": "execute_result"
    }
   ],
   "source": [
    "len(s)"
   ]
  },
  {
   "cell_type": "code",
   "execution_count": 94,
   "id": "b36121b3",
   "metadata": {},
   "outputs": [],
   "source": [
    "# s[0:5] = 'your n'"
   ]
  },
  {
   "cell_type": "code",
   "execution_count": 95,
   "id": "e3a723f9",
   "metadata": {},
   "outputs": [
    {
     "data": {
      "text/plain": [
       "'my  name is sameer'"
      ]
     },
     "execution_count": 95,
     "metadata": {},
     "output_type": "execute_result"
    }
   ],
   "source": [
    "s"
   ]
  },
  {
   "cell_type": "code",
   "execution_count": 97,
   "id": "05f403e6",
   "metadata": {},
   "outputs": [],
   "source": [
    "s = s+ ' kamran'"
   ]
  },
  {
   "cell_type": "code",
   "execution_count": 98,
   "id": "41afcdc5",
   "metadata": {},
   "outputs": [
    {
     "data": {
      "text/plain": [
       "'my  name is sameer kamran'"
      ]
     },
     "execution_count": 98,
     "metadata": {},
     "output_type": "execute_result"
    }
   ],
   "source": [
    "s"
   ]
  },
  {
   "cell_type": "code",
   "execution_count": 103,
   "id": "eadc559c",
   "metadata": {},
   "outputs": [],
   "source": [
    "# s[1:len(s)]"
   ]
  },
  {
   "cell_type": "code",
   "execution_count": 105,
   "id": "b5304292",
   "metadata": {},
   "outputs": [
    {
     "data": {
      "text/plain": [
       "'my  name is sameer kamranmy  name is sameer kamranmy  name is sameer kamran'"
      ]
     },
     "execution_count": 105,
     "metadata": {},
     "output_type": "execute_result"
    }
   ],
   "source": [
    "s*3"
   ]
  },
  {
   "cell_type": "code",
   "execution_count": null,
   "id": "6d0f4257",
   "metadata": {},
   "outputs": [],
   "source": [
    "# CONDITIONAL STATEMENTS in python\n",
    "# if \n",
    "# else\n",
    "# elif\n",
    "\n",
    "\n",
    "# if condtion:\n",
    "#     code st1\n",
    "# elif  condition:\n",
    "#     code st2\n",
    "# else:\n",
    "#     code st3\n",
    "    "
   ]
  },
  {
   "cell_type": "code",
   "execution_count": 131,
   "id": "a21818a0",
   "metadata": {},
   "outputs": [],
   "source": [
    "a, b, c = 23, 3, 23"
   ]
  },
  {
   "cell_type": "code",
   "execution_count": 132,
   "id": "1d636b3c",
   "metadata": {},
   "outputs": [
    {
     "name": "stdout",
     "output_type": "stream",
     "text": [
      "a is greatest\n"
     ]
    }
   ],
   "source": [
    "if a>b:\n",
    "    print('a is greatest')\n",
    "else:\n",
    "    print('b is greatest')"
   ]
  },
  {
   "cell_type": "code",
   "execution_count": 136,
   "id": "60f35aa2",
   "metadata": {
    "scrolled": true
   },
   "outputs": [
    {
     "name": "stdout",
     "output_type": "stream",
     "text": [
      "23 is greatest\n"
     ]
    }
   ],
   "source": [
    "if a>=b and a>=c:\n",
    "    print(f'{a} is greatest')\n",
    "elif c>=a and c>=b:\n",
    "    print(f'{c} is greatest')\n",
    "elif b>=a and b>=c:\n",
    "    print(f'{b} is greatest')\n",
    "else:\n",
    "    print('all are equal')"
   ]
  },
  {
   "cell_type": "code",
   "execution_count": null,
   "id": "3ce7c5dc",
   "metadata": {},
   "outputs": [],
   "source": []
  },
  {
   "cell_type": "code",
   "execution_count": null,
   "id": "5d5003f2",
   "metadata": {},
   "outputs": [],
   "source": []
  }
 ],
 "metadata": {
  "kernelspec": {
   "display_name": "Python 3",
   "language": "python",
   "name": "python3"
  },
  "language_info": {
   "codemirror_mode": {
    "name": "ipython",
    "version": 3
   },
   "file_extension": ".py",
   "mimetype": "text/x-python",
   "name": "python",
   "nbconvert_exporter": "python",
   "pygments_lexer": "ipython3",
   "version": "3.8.8"
  }
 },
 "nbformat": 4,
 "nbformat_minor": 5
}
