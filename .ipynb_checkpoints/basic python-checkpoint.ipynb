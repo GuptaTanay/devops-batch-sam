{
 "cells": [
  {
   "cell_type": "markdown",
   "id": "10223c51",
   "metadata": {},
   "source": [
    "# Basic python introduction"
   ]
  },
  {
   "cell_type": "markdown",
   "id": "d2914c76",
   "metadata": {},
   "source": [
    "### Data type in python"
   ]
  },
  {
   "cell_type": "code",
   "execution_count": 1,
   "id": "745ee98b",
   "metadata": {},
   "outputs": [],
   "source": [
    "# 1. integer --> 1, 2, 3\n",
    "# 2. float --> 1.1, 2.1\n",
    "# 3. string --> abc, sameer, etc.\n",
    "# 4. boolean --> True, False\n",
    "# 5. complex\n",
    "\n",
    "# --------------------Find other data types apart from the above 4in python"
   ]
  },
  {
   "cell_type": "code",
   "execution_count": 2,
   "id": "aa3ed996",
   "metadata": {},
   "outputs": [],
   "source": [
    "# variable --> these are the place  holders in the code to identify/ store any value in the memory.\n",
    "\n",
    "# name = 1\n",
    "# the variable should start with an alphabet or _, it can only contain alphanumeric"
   ]
  },
  {
   "cell_type": "code",
   "execution_count": 3,
   "id": "e1e9accc",
   "metadata": {},
   "outputs": [],
   "source": [
    "value = 3.4\n",
    "num = 2\n",
    "yes = True\n",
    "no = False"
   ]
  },
  {
   "cell_type": "code",
   "execution_count": 4,
   "id": "1a27b58e",
   "metadata": {},
   "outputs": [],
   "source": [
    "# print(value, num)"
   ]
  },
  {
   "cell_type": "code",
   "execution_count": 5,
   "id": "e6f55750",
   "metadata": {},
   "outputs": [
    {
     "data": {
      "text/plain": [
       "bool"
      ]
     },
     "execution_count": 5,
     "metadata": {},
     "output_type": "execute_result"
    }
   ],
   "source": [
    "type(yes)"
   ]
  },
  {
   "cell_type": "code",
   "execution_count": 6,
   "id": "13925c01",
   "metadata": {},
   "outputs": [],
   "source": [
    "# Data structure --> a collection of data stored in the memory.\n",
    "# 1. list\n",
    "# 2. tuple\n",
    "# 3. set\n",
    "# 4. dictionary\n",
    "\n",
    "# --------------------------------tell any other data structure apart from the avove 4"
   ]
  },
  {
   "cell_type": "code",
   "execution_count": 7,
   "id": "1c29490b",
   "metadata": {},
   "outputs": [],
   "source": [
    "\n",
    "# list --> collection of similar or different data types in python, unordered, mutable in nature\n",
    "\n",
    "l = [1,2,3,45,6,7,8,9,765,43,2,2]"
   ]
  },
  {
   "cell_type": "code",
   "execution_count": 8,
   "id": "58fc47db",
   "metadata": {},
   "outputs": [
    {
     "data": {
      "text/plain": [
       "list"
      ]
     },
     "execution_count": 8,
     "metadata": {},
     "output_type": "execute_result"
    }
   ],
   "source": [
    "type(l)"
   ]
  },
  {
   "cell_type": "code",
   "execution_count": 9,
   "id": "a0d1bfff",
   "metadata": {},
   "outputs": [],
   "source": [
    "l[11] = 3"
   ]
  },
  {
   "cell_type": "code",
   "execution_count": 10,
   "id": "3f86027a",
   "metadata": {},
   "outputs": [
    {
     "data": {
      "text/plain": [
       "[1, 2, 3, 45, 6, 7, 8, 9, 765, 43, 2, 3]"
      ]
     },
     "execution_count": 10,
     "metadata": {},
     "output_type": "execute_result"
    }
   ],
   "source": [
    "l"
   ]
  },
  {
   "cell_type": "code",
   "execution_count": 11,
   "id": "83310916",
   "metadata": {},
   "outputs": [
    {
     "data": {
      "text/plain": [
       "2"
      ]
     },
     "execution_count": 11,
     "metadata": {},
     "output_type": "execute_result"
    }
   ],
   "source": [
    "l.index(3)"
   ]
  },
  {
   "cell_type": "code",
   "execution_count": 12,
   "id": "fd0798fe",
   "metadata": {},
   "outputs": [],
   "source": [
    "l.remove(3)"
   ]
  },
  {
   "cell_type": "code",
   "execution_count": 13,
   "id": "ae5a008e",
   "metadata": {},
   "outputs": [
    {
     "data": {
      "text/plain": [
       "3"
      ]
     },
     "execution_count": 13,
     "metadata": {},
     "output_type": "execute_result"
    }
   ],
   "source": [
    "l.pop()"
   ]
  },
  {
   "cell_type": "code",
   "execution_count": 14,
   "id": "c3a32258",
   "metadata": {},
   "outputs": [
    {
     "data": {
      "text/plain": [
       "[1, 2, 45, 6, 7, 8, 9, 765, 43, 2, 5]"
      ]
     },
     "execution_count": 14,
     "metadata": {},
     "output_type": "execute_result"
    }
   ],
   "source": [
    "l.append(5)\n",
    "l"
   ]
  },
  {
   "cell_type": "code",
   "execution_count": 15,
   "id": "a28d569a",
   "metadata": {},
   "outputs": [
    {
     "data": {
      "text/plain": [
       "11"
      ]
     },
     "execution_count": 15,
     "metadata": {},
     "output_type": "execute_result"
    }
   ],
   "source": [
    "len(l)"
   ]
  },
  {
   "cell_type": "code",
   "execution_count": 16,
   "id": "41f64d0e",
   "metadata": {},
   "outputs": [
    {
     "data": {
      "text/plain": [
       "1"
      ]
     },
     "execution_count": 16,
     "metadata": {},
     "output_type": "execute_result"
    }
   ],
   "source": [
    "l.count(43)"
   ]
  },
  {
   "cell_type": "code",
   "execution_count": 17,
   "id": "9053423f",
   "metadata": {},
   "outputs": [
    {
     "data": {
      "text/plain": [
       "5"
      ]
     },
     "execution_count": 17,
     "metadata": {},
     "output_type": "execute_result"
    }
   ],
   "source": [
    "n = len(l)\n",
    "l[n-1]"
   ]
  },
  {
   "cell_type": "code",
   "execution_count": 18,
   "id": "63f32a96",
   "metadata": {},
   "outputs": [
    {
     "data": {
      "text/plain": [
       "5"
      ]
     },
     "execution_count": 18,
     "metadata": {},
     "output_type": "execute_result"
    }
   ],
   "source": [
    "l[-1]"
   ]
  },
  {
   "cell_type": "code",
   "execution_count": 19,
   "id": "0f32f854",
   "metadata": {},
   "outputs": [],
   "source": [
    "# tuple --> collection of similar or different data types in python, unordered, \n",
    "# immutable in nature and is fatser as compared to the list"
   ]
  },
  {
   "cell_type": "code",
   "execution_count": 20,
   "id": "c22a426a",
   "metadata": {},
   "outputs": [],
   "source": [
    "t = (1,2,4,3,5,2,6)"
   ]
  },
  {
   "cell_type": "code",
   "execution_count": 21,
   "id": "66704e3a",
   "metadata": {},
   "outputs": [
    {
     "data": {
      "text/plain": [
       "(4, 3, 5, 2)"
      ]
     },
     "execution_count": 21,
     "metadata": {},
     "output_type": "execute_result"
    }
   ],
   "source": [
    "# t[1] = 1\n",
    "t[2:6]"
   ]
  },
  {
   "cell_type": "code",
   "execution_count": 22,
   "id": "060a6a02",
   "metadata": {},
   "outputs": [],
   "source": [
    "# set --> collection of similar of difeerent data types in python, it is ordered, and cannot contain duplicates\n",
    "# sets are not indexable/ subscriptable, mutable in nature\n",
    "s = {1,1,2,1,4,3,78,7}"
   ]
  },
  {
   "cell_type": "code",
   "execution_count": 23,
   "id": "cff3e519",
   "metadata": {},
   "outputs": [],
   "source": [
    "s.remove(7)"
   ]
  },
  {
   "cell_type": "code",
   "execution_count": 24,
   "id": "0ca85d90",
   "metadata": {},
   "outputs": [],
   "source": [
    "s.add(7)"
   ]
  },
  {
   "cell_type": "code",
   "execution_count": 25,
   "id": "17609e63",
   "metadata": {},
   "outputs": [
    {
     "data": {
      "text/plain": [
       "{1, 2, 3, 4, 7, 78}"
      ]
     },
     "execution_count": 25,
     "metadata": {},
     "output_type": "execute_result"
    }
   ],
   "source": [
    "s"
   ]
  },
  {
   "cell_type": "code",
   "execution_count": 26,
   "id": "e2b94d90",
   "metadata": {},
   "outputs": [],
   "source": [
    "# Dictionary --> which is in the form of key value pairs,you willhave keys and values.\n",
    "# it is also mutable in nature, and you can change the values, \n",
    "# there will be no duplicates in the keys, but value can be duplicate"
   ]
  },
  {
   "cell_type": "code",
   "execution_count": 27,
   "id": "34c44acd",
   "metadata": {},
   "outputs": [],
   "source": [
    "d = {1:22, 'a':2, 'c':3.0, 1:23, 2:23}"
   ]
  },
  {
   "cell_type": "code",
   "execution_count": 28,
   "id": "ace212ba",
   "metadata": {},
   "outputs": [
    {
     "data": {
      "text/plain": [
       "dict_items([(1, 23), ('a', 2), ('c', 3.0), (2, 23)])"
      ]
     },
     "execution_count": 28,
     "metadata": {},
     "output_type": "execute_result"
    }
   ],
   "source": [
    "d.items()"
   ]
  },
  {
   "cell_type": "code",
   "execution_count": 29,
   "id": "d341f7da",
   "metadata": {},
   "outputs": [
    {
     "data": {
      "text/plain": [
       "dict_keys([1, 'a', 'c', 2])"
      ]
     },
     "execution_count": 29,
     "metadata": {},
     "output_type": "execute_result"
    }
   ],
   "source": [
    "d.keys()"
   ]
  },
  {
   "cell_type": "code",
   "execution_count": 30,
   "id": "0188bf26",
   "metadata": {},
   "outputs": [
    {
     "data": {
      "text/plain": [
       "dict_values([23, 2, 3.0, 23])"
      ]
     },
     "execution_count": 30,
     "metadata": {},
     "output_type": "execute_result"
    }
   ],
   "source": [
    "d.values()"
   ]
  },
  {
   "cell_type": "code",
   "execution_count": 31,
   "id": "01c9484d",
   "metadata": {},
   "outputs": [],
   "source": [
    "d[1] = 34"
   ]
  },
  {
   "cell_type": "code",
   "execution_count": 32,
   "id": "cefc93e8",
   "metadata": {},
   "outputs": [],
   "source": [
    "d['d'] = 0"
   ]
  },
  {
   "cell_type": "code",
   "execution_count": 33,
   "id": "f152d720",
   "metadata": {},
   "outputs": [
    {
     "data": {
      "text/plain": [
       "{1: 34, 'a': 2, 'c': 3.0, 2: 23, 'd': 0}"
      ]
     },
     "execution_count": 33,
     "metadata": {},
     "output_type": "execute_result"
    }
   ],
   "source": [
    "d"
   ]
  },
  {
   "cell_type": "code",
   "execution_count": null,
   "id": "67d256c1",
   "metadata": {},
   "outputs": [],
   "source": []
  },
  {
   "cell_type": "code",
   "execution_count": 34,
   "id": "d2c0de9b",
   "metadata": {},
   "outputs": [],
   "source": [
    "# -------------------------------OPERATORS IN PYTHON ------------------------------------\n",
    "# 1.+ --> addition\n",
    "# 2. - --> subtraction\n",
    "# 3. * ---> multiplicatoin\n",
    "# 4. / --> division\n",
    "# 7. % --> remainder\n",
    "# 8. // --> integer division\n",
    "\n",
    "# 9. or--> used to check logical or conditions\n",
    "# 10. and --> usded to check logical and condition\n",
    "\n",
    "# ---------------------------> any other operators in python apart from the above?"
   ]
  },
  {
   "cell_type": "code",
   "execution_count": 35,
   "id": "fdbc36b3",
   "metadata": {},
   "outputs": [],
   "source": [
    "a, b = 8, 3"
   ]
  },
  {
   "cell_type": "code",
   "execution_count": 36,
   "id": "43527943",
   "metadata": {},
   "outputs": [
    {
     "data": {
      "text/plain": [
       "(11, 5, 24, 2.6666666666666665, 2, 2)"
      ]
     },
     "execution_count": 36,
     "metadata": {},
     "output_type": "execute_result"
    }
   ],
   "source": [
    "a+b, a-b, a*b, a/b, a%b, a//b"
   ]
  },
  {
   "cell_type": "code",
   "execution_count": 37,
   "id": "e883f0c5",
   "metadata": {},
   "outputs": [],
   "source": [
    "a, b = 'abc', 2"
   ]
  },
  {
   "cell_type": "code",
   "execution_count": 38,
   "id": "e8f1187d",
   "metadata": {},
   "outputs": [],
   "source": [
    "\n",
    "# STRING MUTATION\n",
    "\n",
    "\n",
    "s = 'my  name is sameer'\n",
    "s2 = 'my name is sameer'\n",
    "s3 = \"\"\"my name is \n",
    "sameer\"\"\""
   ]
  },
  {
   "cell_type": "code",
   "execution_count": 39,
   "id": "1fdc09e0",
   "metadata": {},
   "outputs": [
    {
     "data": {
      "text/plain": [
       "'my  name is sameer'"
      ]
     },
     "execution_count": 39,
     "metadata": {},
     "output_type": "execute_result"
    }
   ],
   "source": [
    "s"
   ]
  },
  {
   "cell_type": "code",
   "execution_count": 40,
   "id": "fb6cc3ac",
   "metadata": {},
   "outputs": [
    {
     "data": {
      "text/plain": [
       "('my name is sameer', 'my name is \\nsameer')"
      ]
     },
     "execution_count": 40,
     "metadata": {},
     "output_type": "execute_result"
    }
   ],
   "source": [
    "s2, s3"
   ]
  },
  {
   "cell_type": "code",
   "execution_count": 41,
   "id": "731608b2",
   "metadata": {},
   "outputs": [],
   "source": [
    "s4 = s"
   ]
  },
  {
   "cell_type": "code",
   "execution_count": 42,
   "id": "58987c62",
   "metadata": {},
   "outputs": [
    {
     "data": {
      "text/plain": [
       "18"
      ]
     },
     "execution_count": 42,
     "metadata": {},
     "output_type": "execute_result"
    }
   ],
   "source": [
    "len(s)"
   ]
  },
  {
   "cell_type": "code",
   "execution_count": 43,
   "id": "06e66680",
   "metadata": {},
   "outputs": [],
   "source": [
    "# s[0:5] = 'your n'"
   ]
  },
  {
   "cell_type": "code",
   "execution_count": 44,
   "id": "1ff8417b",
   "metadata": {},
   "outputs": [
    {
     "data": {
      "text/plain": [
       "'my  name is sameer'"
      ]
     },
     "execution_count": 44,
     "metadata": {},
     "output_type": "execute_result"
    }
   ],
   "source": [
    "s"
   ]
  },
  {
   "cell_type": "code",
   "execution_count": 45,
   "id": "e23126df",
   "metadata": {},
   "outputs": [],
   "source": [
    "s = s+ ' kamran'"
   ]
  },
  {
   "cell_type": "code",
   "execution_count": 46,
   "id": "1e1349cd",
   "metadata": {},
   "outputs": [
    {
     "data": {
      "text/plain": [
       "'my  name is sameer kamran'"
      ]
     },
     "execution_count": 46,
     "metadata": {},
     "output_type": "execute_result"
    }
   ],
   "source": [
    "s"
   ]
  },
  {
   "cell_type": "code",
   "execution_count": 47,
   "id": "d95958e1",
   "metadata": {},
   "outputs": [],
   "source": [
    "# s[1:len(s)]"
   ]
  },
  {
   "cell_type": "code",
   "execution_count": 48,
   "id": "bbba6b90",
   "metadata": {},
   "outputs": [
    {
     "data": {
      "text/plain": [
       "'my  name is sameer kamranmy  name is sameer kamranmy  name is sameer kamran'"
      ]
     },
     "execution_count": 48,
     "metadata": {},
     "output_type": "execute_result"
    }
   ],
   "source": [
    "s*3"
   ]
  },
  {
   "cell_type": "code",
   "execution_count": 49,
   "id": "c5b34ae2",
   "metadata": {},
   "outputs": [],
   "source": [
    "# CONDITIONAL STATEMENTS in python\n",
    "# if \n",
    "# else\n",
    "# elif\n",
    "\n",
    "\n",
    "# if condtion:\n",
    "#     code st1\n",
    "# elif  condition:\n",
    "#     code st2\n",
    "# else:\n",
    "#     code st3\n",
    "    "
   ]
  },
  {
   "cell_type": "code",
   "execution_count": 50,
   "id": "58e0439d",
   "metadata": {},
   "outputs": [],
   "source": [
    "a, b, c = 23, 3, 23"
   ]
  },
  {
   "cell_type": "code",
   "execution_count": 51,
   "id": "fb5307a1",
   "metadata": {},
   "outputs": [
    {
     "name": "stdout",
     "output_type": "stream",
     "text": [
      "a is greatest\n"
     ]
    }
   ],
   "source": [
    "if a>b:\n",
    "    print('a is greatest')\n",
    "else:\n",
    "    print('b is greatest')"
   ]
  },
  {
   "cell_type": "code",
   "execution_count": 52,
   "id": "e4d3f497",
   "metadata": {
    "scrolled": true
   },
   "outputs": [
    {
     "name": "stdout",
     "output_type": "stream",
     "text": [
      "23 is greatest\n"
     ]
    }
   ],
   "source": [
    "if a>=b and a>=c:\n",
    "    print(f'{a} is greatest')\n",
    "elif c>=a and c>=b:\n",
    "    print(f'{c} is greatest')\n",
    "elif b>=a and b>=c:\n",
    "    print(f'{b} is greatest')\n",
    "else:\n",
    "    print('all are equal')"
   ]
  },
  {
   "cell_type": "code",
   "execution_count": 53,
   "id": "9e4d9a8d",
   "metadata": {},
   "outputs": [],
   "source": [
    "# COntrol flow statement --> which control the flow of the code\n",
    "# 1. LOOPS --> a. for, b. while\n",
    "# 2. KEYWORDS --> a. break, b. continue, c. pass"
   ]
  },
  {
   "cell_type": "code",
   "execution_count": 54,
   "id": "bb29598a",
   "metadata": {},
   "outputs": [
    {
     "ename": "SyntaxError",
     "evalue": "invalid syntax (<ipython-input-54-01b098e34611>, line 1)",
     "output_type": "error",
     "traceback": [
      "\u001b[1;36m  File \u001b[1;32m\"<ipython-input-54-01b098e34611>\"\u001b[1;36m, line \u001b[1;32m1\u001b[0m\n\u001b[1;33m    loops --> the code will be repeated or reiterated again and again until the condition is sufficed.\u001b[0m\n\u001b[1;37m           ^\u001b[0m\n\u001b[1;31mSyntaxError\u001b[0m\u001b[1;31m:\u001b[0m invalid syntax\n"
     ]
    }
   ],
   "source": [
    "loops --> the code will be repeated or reiterated again and again until the condition is sufficed.\n",
    "\n",
    "\n",
    "\n",
    "# for --> \n",
    "# for i in l:\n",
    "#     code st1"
   ]
  },
  {
   "cell_type": "code",
   "execution_count": 55,
   "id": "9f1a47a4",
   "metadata": {},
   "outputs": [],
   "source": [
    "l = [0,1,1,1,2,3,5,4]\n",
    "ans = []\n",
    "for i in l:\n",
    "#     print(i)\n",
    "    s = i+1\n",
    "    ans.append(s)"
   ]
  },
  {
   "cell_type": "code",
   "execution_count": 56,
   "id": "9536c92a",
   "metadata": {},
   "outputs": [
    {
     "name": "stdout",
     "output_type": "stream",
     "text": [
      "[1, 2, 2, 2, 3, 4, 6, 5]\n"
     ]
    }
   ],
   "source": [
    "print(ans)"
   ]
  },
  {
   "cell_type": "code",
   "execution_count": 57,
   "id": "6414b1e0",
   "metadata": {},
   "outputs": [],
   "source": [
    "# for i in range(0, 101):\n",
    "#     if i%2 != 0:\n",
    "#         print(i)"
   ]
  },
  {
   "cell_type": "code",
   "execution_count": 58,
   "id": "0fe4939f",
   "metadata": {},
   "outputs": [],
   "source": [
    "# while --> whenever there is a condition that we can use to check and loop\n",
    "\n",
    "# s = 100\n",
    "# while s>=0:\n",
    "#     if s%2 ==0:\n",
    "#         print(s)\n",
    "#     s -=1 #s = s-1"
   ]
  },
  {
   "cell_type": "code",
   "execution_count": 59,
   "id": "42bdd9af",
   "metadata": {},
   "outputs": [
    {
     "name": "stdout",
     "output_type": "stream",
     "text": [
      "1\n",
      "2\n",
      "4\n",
      "6\n",
      "7\n",
      "8\n",
      "9\n",
      "10\n"
     ]
    }
   ],
   "source": [
    "# continue --> is a keyword which is used inside the loops to skip that particular iteration\n",
    "# break --> is a keyword which is used to stop the looping, to come out of the loop\n",
    "\n",
    "# print all the numbers from 1 to 10 and skip 3 and 5\n",
    "for i in range(1, 11):\n",
    "    if i in [3, 5]:\n",
    "        continue\n",
    "    print(i)"
   ]
  },
  {
   "cell_type": "code",
   "execution_count": 60,
   "id": "563e7970",
   "metadata": {},
   "outputs": [
    {
     "name": "stdout",
     "output_type": "stream",
     "text": [
      "0\n",
      "1\n",
      "3\n",
      "4\n"
     ]
    }
   ],
   "source": [
    "# pass: is used whenever we have a block of code and we dont want to execute anything insed the block\n",
    "for i in range(0, 5):\n",
    "    if i ==1:\n",
    "        pass\n",
    "    elif i ==2:\n",
    "        print(i-1)\n",
    "    else:\n",
    "        print(i)"
   ]
  },
  {
   "cell_type": "code",
   "execution_count": 61,
   "id": "fafc51a8",
   "metadata": {},
   "outputs": [],
   "source": [
    "# check the odd numbers between 100, 200....500, 200\n",
    "\n",
    "# for i in range(100, 201):\n",
    "#     if i % 2 !=0:\n",
    "#         print(i)"
   ]
  },
  {
   "cell_type": "code",
   "execution_count": 62,
   "id": "fd6c6f2d",
   "metadata": {},
   "outputs": [],
   "source": [
    "# for i in range(500, 200, -1):\n",
    "#     if i % 2 !=0:\n",
    "#         print(i)"
   ]
  },
  {
   "cell_type": "code",
   "execution_count": 63,
   "id": "953fbe10",
   "metadata": {},
   "outputs": [],
   "source": [
    "# FUNCTIONS in python: are re-usable piece of code whcih can be called again and  again inside the code"
   ]
  },
  {
   "cell_type": "code",
   "execution_count": 64,
   "id": "b4f1fea2",
   "metadata": {},
   "outputs": [],
   "source": [
    "# 1. function definition --> to define the function and its structure\n",
    "# 2. function call --> to call function to exectue the code statements inside the funciton"
   ]
  },
  {
   "cell_type": "code",
   "execution_count": 65,
   "id": "1e10dae2",
   "metadata": {},
   "outputs": [],
   "source": [
    "# function def --->\n",
    "\n",
    "# def <funcitonname>(<parameters>):\n",
    "#     code stet\n",
    "#     return <returnval>\n",
    "\n",
    "\n",
    "# ans= <funcitonname>(<param>)"
   ]
  },
  {
   "cell_type": "code",
   "execution_count": 66,
   "id": "ed2bd68b",
   "metadata": {},
   "outputs": [],
   "source": [
    "def find_odd(start, end, step=1):\n",
    "    ans = []\n",
    "    for i in range(start, end, step):\n",
    "        if i%2 !=0:\n",
    "            ans.append(i)\n",
    "    return ans"
   ]
  },
  {
   "cell_type": "code",
   "execution_count": 103,
   "id": "f1bd3842",
   "metadata": {},
   "outputs": [
    {
     "ename": "TypeError",
     "evalue": "find_odd() missing 1 required positional argument: 'end'",
     "output_type": "error",
     "traceback": [
      "\u001b[1;31m---------------------------------------------------------------------------\u001b[0m",
      "\u001b[1;31mTypeError\u001b[0m                                 Traceback (most recent call last)",
      "\u001b[1;32m<ipython-input-103-3c60210195b9>\u001b[0m in \u001b[0;36m<module>\u001b[1;34m\u001b[0m\n\u001b[1;32m----> 1\u001b[1;33m \u001b[0mans\u001b[0m \u001b[1;33m=\u001b[0m \u001b[0mfind_odd\u001b[0m\u001b[1;33m(\u001b[0m\u001b[0mstart\u001b[0m\u001b[1;33m=\u001b[0m\u001b[1;36m101\u001b[0m\u001b[1;33m)\u001b[0m\u001b[1;33m\u001b[0m\u001b[1;33m\u001b[0m\u001b[0m\n\u001b[0m",
      "\u001b[1;31mTypeError\u001b[0m: find_odd() missing 1 required positional argument: 'end'"
     ]
    }
   ],
   "source": [
    "ans = find_odd(start=101, end=201)"
   ]
  },
  {
   "cell_type": "code",
   "execution_count": 68,
   "id": "8f9ec095",
   "metadata": {},
   "outputs": [],
   "source": [
    "ans2 = find_odd(start=50000, end=0, step=-1)"
   ]
  },
  {
   "cell_type": "code",
   "execution_count": 69,
   "id": "399f6036",
   "metadata": {},
   "outputs": [],
   "source": [
    "# print(ans2)"
   ]
  },
  {
   "cell_type": "code",
   "execution_count": 70,
   "id": "3564a776",
   "metadata": {},
   "outputs": [],
   "source": [
    "# h.w. --> create a function to add 3 numbers\n"
   ]
  },
  {
   "cell_type": "code",
   "execution_count": 71,
   "id": "f9b79aef",
   "metadata": {},
   "outputs": [],
   "source": [
    "# program to create a calculator\n",
    "# args and kwargs for functions"
   ]
  },
  {
   "cell_type": "code",
   "execution_count": 73,
   "id": "92ce2c09",
   "metadata": {},
   "outputs": [],
   "source": [
    "def calculator(a, b, op):\n",
    "    if op == '+':\n",
    "        return a+b\n",
    "    elif op == '-':\n",
    "        return a-b\n",
    "    elif op =='/':\n",
    "        return a/b\n",
    "    elif op == '*':\n",
    "        return a*b\n",
    "    elif a//b:\n",
    "        return a//b"
   ]
  },
  {
   "cell_type": "code",
   "execution_count": 74,
   "id": "6492b6ea",
   "metadata": {},
   "outputs": [],
   "source": [
    "a, b = 9, 2"
   ]
  },
  {
   "cell_type": "code",
   "execution_count": 79,
   "id": "7dee4457",
   "metadata": {},
   "outputs": [],
   "source": [
    "ans = calculator(a, b, '*')"
   ]
  },
  {
   "cell_type": "code",
   "execution_count": 80,
   "id": "571403e9",
   "metadata": {},
   "outputs": [
    {
     "name": "stdout",
     "output_type": "stream",
     "text": [
      "18\n"
     ]
    }
   ],
   "source": [
    "print(ans)"
   ]
  },
  {
   "cell_type": "code",
   "execution_count": 95,
   "id": "5a9b3633",
   "metadata": {},
   "outputs": [],
   "source": [
    "def calculate(*args):\n",
    "    s = 0\n",
    "    for i in args:\n",
    "        \n",
    "        s+=i\n",
    "    return s"
   ]
  },
  {
   "cell_type": "code",
   "execution_count": 99,
   "id": "2eb5f6f4",
   "metadata": {},
   "outputs": [],
   "source": [
    "# a=[1,2,3,45,100,6,6,0,4,3,3,1,2,2,2]\n",
    "a, b, c, d = 1, 2, 3,4\n",
    "e =10"
   ]
  },
  {
   "cell_type": "code",
   "execution_count": 100,
   "id": "6c3d3759",
   "metadata": {},
   "outputs": [],
   "source": [
    "ans = calculate(a, b, c, d, e)"
   ]
  },
  {
   "cell_type": "code",
   "execution_count": 101,
   "id": "f7fe892e",
   "metadata": {},
   "outputs": [
    {
     "name": "stdout",
     "output_type": "stream",
     "text": [
      "20\n"
     ]
    }
   ],
   "source": [
    "print(ans)"
   ]
  },
  {
   "cell_type": "code",
   "execution_count": null,
   "id": "4634a191",
   "metadata": {},
   "outputs": [],
   "source": [
    "# default arguments --> these arguments will have a default value until they have been replaced or pased explicitly in the funciton, \n",
    "# they are optional to be passed ina  function call"
   ]
  },
  {
   "cell_type": "code",
   "execution_count": 105,
   "id": "dcd9ada8",
   "metadata": {},
   "outputs": [],
   "source": [
    "def fun(a, b, c=0):\n",
    "    return a+b-c"
   ]
  },
  {
   "cell_type": "code",
   "execution_count": 109,
   "id": "a334bf2c",
   "metadata": {},
   "outputs": [],
   "source": [
    "ans = fun(1, 12, 20)"
   ]
  },
  {
   "cell_type": "code",
   "execution_count": 110,
   "id": "059d197b",
   "metadata": {},
   "outputs": [
    {
     "data": {
      "text/plain": [
       "-7"
      ]
     },
     "execution_count": 110,
     "metadata": {},
     "output_type": "execute_result"
    }
   ],
   "source": [
    "ans"
   ]
  },
  {
   "cell_type": "code",
   "execution_count": 111,
   "id": "f0de256a",
   "metadata": {},
   "outputs": [],
   "source": [
    "import math"
   ]
  },
  {
   "cell_type": "code",
   "execution_count": 112,
   "id": "237330b6",
   "metadata": {},
   "outputs": [
    {
     "data": {
      "text/plain": [
       "9.0"
      ]
     },
     "execution_count": 112,
     "metadata": {},
     "output_type": "execute_result"
    }
   ],
   "source": [
    "math.pow(3, 2)"
   ]
  },
  {
   "cell_type": "code",
   "execution_count": 113,
   "id": "8e56bb2b",
   "metadata": {},
   "outputs": [
    {
     "data": {
      "text/plain": [
       "['__doc__',\n",
       " '__loader__',\n",
       " '__name__',\n",
       " '__package__',\n",
       " '__spec__',\n",
       " 'acos',\n",
       " 'acosh',\n",
       " 'asin',\n",
       " 'asinh',\n",
       " 'atan',\n",
       " 'atan2',\n",
       " 'atanh',\n",
       " 'ceil',\n",
       " 'comb',\n",
       " 'copysign',\n",
       " 'cos',\n",
       " 'cosh',\n",
       " 'degrees',\n",
       " 'dist',\n",
       " 'e',\n",
       " 'erf',\n",
       " 'erfc',\n",
       " 'exp',\n",
       " 'expm1',\n",
       " 'fabs',\n",
       " 'factorial',\n",
       " 'floor',\n",
       " 'fmod',\n",
       " 'frexp',\n",
       " 'fsum',\n",
       " 'gamma',\n",
       " 'gcd',\n",
       " 'hypot',\n",
       " 'inf',\n",
       " 'isclose',\n",
       " 'isfinite',\n",
       " 'isinf',\n",
       " 'isnan',\n",
       " 'isqrt',\n",
       " 'ldexp',\n",
       " 'lgamma',\n",
       " 'log',\n",
       " 'log10',\n",
       " 'log1p',\n",
       " 'log2',\n",
       " 'modf',\n",
       " 'nan',\n",
       " 'perm',\n",
       " 'pi',\n",
       " 'pow',\n",
       " 'prod',\n",
       " 'radians',\n",
       " 'remainder',\n",
       " 'sin',\n",
       " 'sinh',\n",
       " 'sqrt',\n",
       " 'tan',\n",
       " 'tanh',\n",
       " 'tau',\n",
       " 'trunc']"
      ]
     },
     "execution_count": 113,
     "metadata": {},
     "output_type": "execute_result"
    }
   ],
   "source": [
    "dir(math)"
   ]
  },
  {
   "cell_type": "code",
   "execution_count": 114,
   "id": "2f60a309",
   "metadata": {},
   "outputs": [
    {
     "name": "stdout",
     "output_type": "stream",
     "text": [
      "Help on built-in function isfinite in module math:\n",
      "\n",
      "isfinite(x, /)\n",
      "    Return True if x is neither an infinity nor a NaN, and False otherwise.\n",
      "\n"
     ]
    }
   ],
   "source": [
    "help(math.isfinite)"
   ]
  },
  {
   "cell_type": "code",
   "execution_count": null,
   "id": "f0d56331",
   "metadata": {},
   "outputs": [],
   "source": [
    "# list vs tuple\n",
    "# tuple vs set\n",
    "# set vs dictionary"
   ]
  },
  {
   "cell_type": "code",
   "execution_count": null,
   "id": "0fa6206a",
   "metadata": {},
   "outputs": [],
   "source": [
    "# python interactive mode->> \n",
    "# python scripting --> ppythn file and run that file as a cript\n",
    "\n",
    "# spyder --> IDE provided by anaconda\n",
    "\n",
    "\n",
    "# basic of pandas, numpy, "
   ]
  }
 ],
 "metadata": {
  "kernelspec": {
   "display_name": "Python 3",
   "language": "python",
   "name": "python3"
  },
  "language_info": {
   "codemirror_mode": {
    "name": "ipython",
    "version": 3
   },
   "file_extension": ".py",
   "mimetype": "text/x-python",
   "name": "python",
   "nbconvert_exporter": "python",
   "pygments_lexer": "ipython3",
   "version": "3.8.8"
  }
 },
 "nbformat": 4,
 "nbformat_minor": 5
}
